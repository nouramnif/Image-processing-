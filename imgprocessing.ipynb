{
 "cells": [
  {
   "cell_type": "code",
   "execution_count": 1,
   "metadata": {
    "id": "nwSgzMSm_34M"
   },
   "outputs": [],
   "source": [
    "import numpy as np\n",
    "import cv2\n",
    "kernel_size = 3\n",
    "ddepth = cv2.CV_16S\n",
    "#range in python 3.x and xrange in python 2.x\n",
    "xrange = range"
   ]
  },
  {
   "cell_type": "code",
   "execution_count": 2,
   "metadata": {
    "colab": {
     "base_uri": "https://localhost:8080/"
    },
    "id": "hB5yzkGb_5aN",
    "outputId": "9c057214-56a6-4e6e-dd56-06141882920e"
   },
   "outputs": [
    {
     "name": "stdout",
     "output_type": "stream",
     "text": [
      "Mounted at /content/drive\n"
     ]
    }
   ],
   "source": [
    "#mount google drive \n",
    "from google.colab import drive\n",
    "drive.mount('/content/drive')"
   ]
  },
  {
   "cell_type": "code",
   "execution_count": 3,
   "metadata": {
    "colab": {
     "base_uri": "https://localhost:8080/"
    },
    "id": "mmyBv7En_7tO",
    "outputId": "79d49cd0-b8b7-4f54-affb-50a723e853ad"
   },
   "outputs": [
    {
     "name": "stdout",
     "output_type": "stream",
     "text": [
      "/content/drive/My Drive/TP4\n"
     ]
    }
   ],
   "source": [
    "#Going to the working directory\n",
    "%cd /content/drive/My Drive/TP4"
   ]
  },
  {
   "cell_type": "code",
   "execution_count": 4,
   "metadata": {
    "id": "Pm6xAj3b_34P"
   },
   "outputs": [],
   "source": [
    "#Load the image 'Baboon.jpg'\n"
   ]
  },
  {
   "cell_type": "code",
   "execution_count": 5,
   "metadata": {
    "id": "42vM0Qzf_34Q"
   },
   "outputs": [],
   "source": [
    "#Grayscale image\n"
   ]
  },
  {
   "cell_type": "code",
   "execution_count": 6,
   "metadata": {
    "id": "wF4xl5r1_34R"
   },
   "outputs": [],
   "source": [
    "#Applying histogram equalization to grayscale image\n"
   ]
  },
  {
   "cell_type": "code",
   "execution_count": 7,
   "metadata": {
    "id": "p0fmLONu_34R"
   },
   "outputs": [],
   "source": [
    "#Get the rows, columns of histogram equalization image\n"
   ]
  },
  {
   "cell_type": "code",
   "execution_count": 8,
   "metadata": {
    "id": "68sHKrgQ_34S"
   },
   "outputs": [],
   "source": [
    "#Remapping image upside down\n"
   ]
  },
  {
   "cell_type": "code",
   "execution_count": 9,
   "metadata": {
    "id": "-QzVPirY_34S"
   },
   "outputs": [],
   "source": [
    "#Reflection in the x direction\n"
   ]
  },
  {
   "cell_type": "code",
   "execution_count": 10,
   "metadata": {
    "id": "Vzp3hzEe_34T"
   },
   "outputs": [],
   "source": [
    "#Median filter\n"
   ]
  },
  {
   "cell_type": "code",
   "execution_count": 11,
   "metadata": {
    "id": "GVk7Pcw8_34T"
   },
   "outputs": [],
   "source": [
    "#Gaussian filter\n"
   ]
  },
  {
   "cell_type": "code",
   "execution_count": 12,
   "metadata": {
    "id": "hNzC3UGT_34U"
   },
   "outputs": [],
   "source": [
    "#Applying the Laplacian function to compute the edge image using the Laplace Operator\n"
   ]
  },
  {
   "cell_type": "code",
   "execution_count": 13,
   "metadata": {
    "id": "7CUbqmYh_34V"
   },
   "outputs": [],
   "source": [
    "#Apply Sobel Edge Detection\n"
   ]
  },
  {
   "cell_type": "code",
   "execution_count": 14,
   "metadata": {
    "id": "EQ9xHgo4_34V"
   },
   "outputs": [],
   "source": [
    "##Compute gradient x for Sobel Edge \n"
   ]
  },
  {
   "cell_type": "code",
   "execution_count": 15,
   "metadata": {
    "id": "RDsPPcKt_34V"
   },
   "outputs": [],
   "source": [
    "##Compute gradient y for Sobel Edge \n"
   ]
  },
  {
   "cell_type": "code",
   "execution_count": 16,
   "metadata": {
    "id": "NUxW1eGw_34W"
   },
   "outputs": [],
   "source": [
    "##Total gradient for Sobel Edge "
   ]
  }
 ],
 "metadata": {
  "colab": {
   "provenance": []
  },
  "kernelspec": {
   "display_name": "Python 3",
   "language": "python",
   "name": "python3"
  },
  "language_info": {
   "codemirror_mode": {
    "name": "ipython",
    "version": 3
   },
   "file_extension": ".py",
   "mimetype": "text/x-python",
   "name": "python",
   "nbconvert_exporter": "python",
   "pygments_lexer": "ipython3",
   "version": "3.8.8"
  },
  "vscode": {
   "interpreter": {
    "hash": "b2c39b7ce5ad97230a47a71d2a0bf84ccd3af71ef13098638b7834b6e65b2a8e"
   }
  }
 },
 "nbformat": 4,
 "nbformat_minor": 1
}
